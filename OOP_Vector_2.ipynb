{
 "cells": [
  {
   "cell_type": "code",
   "execution_count": 4,
   "metadata": {},
   "outputs": [],
   "source": [
    "class Vector:\n",
    "    \n",
    "    def __init__(self, x, y):\n",
    "        self.x = x\n",
    "        self.y = y\n",
    "    \n",
    "    def __repr__(self):\n",
    "        return f\"Vector{self.x, self.y}\"\n",
    "    \n",
    "    def __str__(self):\n",
    "        return \"Vector\"\n",
    "    \n",
    "    def __add__(self, other):\n",
    "        return Vector(self.x + other.x, self.y + other.y)\n",
    "    \n",
    "    def __sub__(self, other):\n",
    "        return Vector(self.x - other.x, self.y - other.y)\n",
    "    \n",
    "    def __mul__(self, var):\n",
    "        return Vector(self.x * var, self.y * var)\n",
    "    \n",
    "    def __rmul__(self, var):\n",
    "        return Vector(self.x * var, self.y * var)\n",
    "    \n",
    "    def __truediv__(self, var):\n",
    "        return Vector(self.x / var, self.y / var)\n",
    "    \n",
    "    def __neg__(self):\n",
    "        return Vector(-self.x, -self.y)\n",
    "    "
   ]
  },
  {
   "cell_type": "code",
   "execution_count": 5,
   "metadata": {},
   "outputs": [],
   "source": [
    "vector = Vector(3, 2)\n",
    "vector2 = Vector(5, 6)\n"
   ]
  },
  {
   "cell_type": "code",
   "execution_count": 6,
   "metadata": {},
   "outputs": [
    {
     "data": {
      "text/plain": [
       "Vector(8.0, 8.0)"
      ]
     },
     "execution_count": 6,
     "metadata": {},
     "output_type": "execute_result"
    }
   ],
   "source": [
    "vector * 3 / 3 + vector2 * 5 / 5"
   ]
  },
  {
   "cell_type": "code",
   "execution_count": 7,
   "metadata": {},
   "outputs": [
    {
     "name": "stdout",
     "output_type": "stream",
     "text": [
      "2\n",
      "3\n",
      "2\n",
      "Vector\n",
      "5\n",
      "6\n",
      "Vector\n",
      "[Vector(3, 2), Vector(5, 6)]\n"
     ]
    }
   ],
   "source": [
    "dot_count = int(input())  \n",
    "dot_array = []  \n",
    "for i in range(dot_count):\n",
    "    dot = Vector(int(input()), int(input()))\n",
    "    print(dot.__str__())\n",
    "    dot_array.append(dot)\n",
    "print(dot_array)"
   ]
  },
  {
   "cell_type": "code",
   "execution_count": null,
   "metadata": {},
   "outputs": [],
   "source": []
  }
 ],
 "metadata": {
  "kernelspec": {
   "display_name": "Python 3",
   "language": "python",
   "name": "python3"
  },
  "language_info": {
   "codemirror_mode": {
    "name": "ipython",
    "version": 3
   },
   "file_extension": ".py",
   "mimetype": "text/x-python",
   "name": "python",
   "nbconvert_exporter": "python",
   "pygments_lexer": "ipython3",
   "version": "3.8.3"
  }
 },
 "nbformat": 4,
 "nbformat_minor": 4
}
