{
 "cells": [
  {
   "cell_type": "code",
   "execution_count": 2,
   "metadata": {},
   "outputs": [],
   "source": [
    "class Vector:\n",
    "    \n",
    "    def __init__(self, x, y):\n",
    "        self.x = x\n",
    "        self.y = y\n",
    "    \n",
    "    def __repr__(self):\n",
    "        return f\"Vector{self.x, self.y}\"\n",
    "    \n",
    "    def __str__(self):\n",
    "        return \"Vector\"\n",
    "    \n",
    "    def __add__(self, other):\n",
    "        return Vector(self.x + other.x, self.y + other.y)\n",
    "    \n",
    "    def __sub__(self, other):\n",
    "        return Vector(self.x - other.x, self.y - other.y)\n",
    "    \n",
    "    def __mul__(self, var):\n",
    "        return Vector(self.x * var, self.y * var)\n",
    "    \n",
    "    def __rmul__(self, var):\n",
    "        return Vector(self.x * var, self.y * var)\n",
    "    \n",
    "    def __truediv__(self, var):\n",
    "        return Vector(self.x / var, self.y / var)\n",
    "    \n",
    "    def __neg__(self):\n",
    "        return Vector(-self.x, -self.y)\n",
    "    \n",
    "    def intpair(self):\n",
    "        return tuple(Vector(round(self.x, 1), round(self.y, 1)))"
   ]
  },
  {
   "cell_type": "code",
   "execution_count": 3,
   "metadata": {},
   "outputs": [
    {
     "name": "stdout",
     "output_type": "stream",
     "text": [
      "pygame 2.1.0 (SDL 2.0.16, Python 3.8.3)\n",
      "Hello from the pygame community. https://www.pygame.org/contribute.html\n"
     ]
    }
   ],
   "source": [
    "import pygame\n",
    "\n",
    "# class Ball(pygame.sprite.Sprite):\n",
    "#     def update(self, dt):\n",
    "#         self.rect.x += dt\n",
    "#         self.rect.y += dt\n",
    "    \n",
    "#     def render(self, canvas):\n",
    "#         pass"
   ]
  },
  {
   "cell_type": "code",
   "execution_count": 4,
   "metadata": {},
   "outputs": [],
   "source": [
    "vector = Vector(3, 2)\n",
    "vector2 = Vector(5, 6)\n"
   ]
  },
  {
   "cell_type": "code",
   "execution_count": 5,
   "metadata": {},
   "outputs": [
    {
     "data": {
      "text/plain": [
       "__main__.Vector"
      ]
     },
     "execution_count": 5,
     "metadata": {},
     "output_type": "execute_result"
    }
   ],
   "source": [
    "type(vector)"
   ]
  },
  {
   "cell_type": "code",
   "execution_count": 6,
   "metadata": {},
   "outputs": [],
   "source": [
    "class Ball:\n",
    "    def __init__(self, x, y, radius, screen):\n",
    "        self.x = x\n",
    "        self.y = y\n",
    "        self.radius = radius\n",
    "        self.screen = screen\n",
    "\n",
    "    def draw(self):\n",
    "        pygame.draw.circle(screen, (0, 0, 255), [self.x, self.y], self.radius)\n",
    "    \n",
    "    def update(self, dt):\n",
    "        self.rect.x += Vector(3, 2)\n",
    "        self.rect.y += Vector(3, 2)\n",
    "\n",
    "pygame.init()\n",
    "screen = pygame.display.set_mode((400, 300))\n",
    "done = False\n",
    "\n",
    "clock = pygame.time.Clock()\n",
    "ball1 = Ball(100, 100, 20, screen)\n",
    "\n",
    "while not done:\n",
    "    for event in pygame.event.get():\n",
    "        if event.type == pygame.QUIT:\n",
    "            done=True\n",
    "\n",
    "    screen.fill((0, 0, 0))\n",
    "\n",
    "    ball1.draw()\n",
    "\n",
    "    pygame.display.flip()\n",
    "    clock.tick(10)"
   ]
  },
  {
   "cell_type": "code",
   "execution_count": null,
   "metadata": {},
   "outputs": [],
   "source": []
  }
 ],
 "metadata": {
  "kernelspec": {
   "display_name": "Python 3",
   "language": "python",
   "name": "python3"
  },
  "language_info": {
   "codemirror_mode": {
    "name": "ipython",
    "version": 3
   },
   "file_extension": ".py",
   "mimetype": "text/x-python",
   "name": "python",
   "nbconvert_exporter": "python",
   "pygments_lexer": "ipython3",
   "version": "3.8.3"
  }
 },
 "nbformat": 4,
 "nbformat_minor": 4
}
