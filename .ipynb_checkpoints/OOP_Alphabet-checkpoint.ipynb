{
 "cells": [
  {
   "cell_type": "code",
   "execution_count": 8,
   "metadata": {},
   "outputs": [],
   "source": [
    "import string\n",
    "\n",
    "class Alphabet:\n",
    "    def __init__(self, language, all_letters):\n",
    "        self.language = language\n",
    "        self.all_letters = list(all_letters)\n",
    "    \n",
    "    def letters(self):\n",
    "        for let in self.all_letters:\n",
    "            print(let)\n",
    "    \n",
    "    def len_letters(self):\n",
    "        print(f'Количество букв : {len(self.all_letters)}')\n",
    "\n",
    "class EnglishAlphabet(Alphabet):\n",
    "    \n",
    "    __len_letters_eng = 26\n",
    "    \n",
    "    def __init__(self):\n",
    "        super().__init__('EN', string.ascii_uppercase)\n",
    "    \n",
    "    def eng_or_not(self, element):\n",
    "        if element.upper() in self.all_letters:\n",
    "            print(f'Символ {element} - английский')\n",
    "        else:\n",
    "            print(f'Символ {element} - не английский!!!')\n",
    "    \n",
    "    @staticmethod\n",
    "    def example():\n",
    "        print(f'Пример текста : Hello world')\n",
    "        "
   ]
  },
  {
   "cell_type": "code",
   "execution_count": 10,
   "metadata": {},
   "outputs": [
    {
     "name": "stdout",
     "output_type": "stream",
     "text": [
      "A\n",
      "B\n",
      "C\n",
      "D\n",
      "E\n",
      "F\n",
      "G\n",
      "H\n",
      "I\n",
      "J\n",
      "K\n",
      "L\n",
      "M\n",
      "N\n",
      "O\n",
      "P\n",
      "Q\n",
      "R\n",
      "S\n",
      "T\n",
      "U\n",
      "V\n",
      "W\n",
      "X\n",
      "Y\n",
      "Z\n"
     ]
    }
   ],
   "source": [
    "eng = EnglishAlphabet()\n",
    "eng.letters()"
   ]
  },
  {
   "cell_type": "code",
   "execution_count": 11,
   "metadata": {},
   "outputs": [
    {
     "data": {
      "text/plain": [
       "26"
      ]
     },
     "execution_count": 11,
     "metadata": {},
     "output_type": "execute_result"
    }
   ],
   "source": [
    "eng.len_letters()"
   ]
  },
  {
   "cell_type": "code",
   "execution_count": 12,
   "metadata": {},
   "outputs": [
    {
     "name": "stdout",
     "output_type": "stream",
     "text": [
      "Символ F - английский\n"
     ]
    }
   ],
   "source": [
    "eng.eng_or_not('F')"
   ]
  },
  {
   "cell_type": "code",
   "execution_count": 13,
   "metadata": {},
   "outputs": [
    {
     "name": "stdout",
     "output_type": "stream",
     "text": [
      "Символ А - не английский!!!\n"
     ]
    }
   ],
   "source": [
    "eng.eng_or_not('А')"
   ]
  },
  {
   "cell_type": "code",
   "execution_count": 14,
   "metadata": {},
   "outputs": [
    {
     "name": "stdout",
     "output_type": "stream",
     "text": [
      "Пример текста : Hello world\n"
     ]
    }
   ],
   "source": [
    "eng.example()"
   ]
  },
  {
   "cell_type": "code",
   "execution_count": null,
   "metadata": {},
   "outputs": [],
   "source": []
  }
 ],
 "metadata": {
  "kernelspec": {
   "display_name": "Python 3",
   "language": "python",
   "name": "python3"
  },
  "language_info": {
   "codemirror_mode": {
    "name": "ipython",
    "version": 3
   },
   "file_extension": ".py",
   "mimetype": "text/x-python",
   "name": "python",
   "nbconvert_exporter": "python",
   "pygments_lexer": "ipython3",
   "version": "3.8.3"
  }
 },
 "nbformat": 4,
 "nbformat_minor": 4
}
