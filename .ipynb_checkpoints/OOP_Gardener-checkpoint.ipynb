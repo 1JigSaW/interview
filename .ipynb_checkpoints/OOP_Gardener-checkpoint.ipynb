{
 "cells": [
  {
   "cell_type": "code",
   "execution_count": 8,
   "metadata": {},
   "outputs": [],
   "source": [
    "class TomatoBush:\n",
    "    def __init__(self, count):\n",
    "        self.tomatoes = [Tomato(index) for index in range(0, count)]\n",
    "        \n",
    "    \n",
    "\n",
    "class Tomato:\n",
    "    \n",
    "    states = [None, 'bloom', 'green', 'red']\n",
    "    \n",
    "    def __init__(self, index):\n",
    "        self._index = index\n",
    "        self._stage_of_maturity = Tomato.states[0]\n",
    "        \n",
    "    def grow(self):\n",
    "        self._stage_of_maturity += 1\n",
    "    \n",
    "    def is_ripe(self):\n",
    "        if self._stage_of_maturity == 'red':\n",
    "            print('Томат достиг последнего уровня зрелости!')\n",
    "        else:\n",
    "            print('Томат еще не созрел')"
   ]
  },
  {
   "cell_type": "code",
   "execution_count": 9,
   "metadata": {},
   "outputs": [
    {
     "data": {
      "text/plain": [
       "[<__main__.Tomato at 0x2307bac9ac0>,\n",
       " <__main__.Tomato at 0x2307bac9760>,\n",
       " <__main__.Tomato at 0x2307bac9d30>,\n",
       " <__main__.Tomato at 0x2307bac9b50>,\n",
       " <__main__.Tomato at 0x2307becb640>,\n",
       " <__main__.Tomato at 0x2307becb0a0>]"
      ]
     },
     "execution_count": 9,
     "metadata": {},
     "output_type": "execute_result"
    }
   ],
   "source": [
    "bush = TomatoBush(6)\n",
    "bush.tomatoes"
   ]
  },
  {
   "cell_type": "code",
   "execution_count": 12,
   "metadata": {},
   "outputs": [
    {
     "ename": "AttributeError",
     "evalue": "'Tomato' object has no attribute 'stage_of_maturity'",
     "output_type": "error",
     "traceback": [
      "\u001b[1;31m---------------------------------------------------------------------------\u001b[0m",
      "\u001b[1;31mAttributeError\u001b[0m                            Traceback (most recent call last)",
      "\u001b[1;32m<ipython-input-12-d27ae56120c0>\u001b[0m in \u001b[0;36m<module>\u001b[1;34m\u001b[0m\n\u001b[0;32m      1\u001b[0m \u001b[0mtomato\u001b[0m \u001b[1;33m=\u001b[0m \u001b[0mTomato\u001b[0m\u001b[1;33m(\u001b[0m\u001b[1;36m5\u001b[0m\u001b[1;33m)\u001b[0m\u001b[1;33m\u001b[0m\u001b[1;33m\u001b[0m\u001b[0m\n\u001b[1;32m----> 2\u001b[1;33m \u001b[0mtomato\u001b[0m\u001b[1;33m.\u001b[0m\u001b[0mstage_of_maturity\u001b[0m\u001b[1;33m\u001b[0m\u001b[1;33m\u001b[0m\u001b[0m\n\u001b[0m",
      "\u001b[1;31mAttributeError\u001b[0m: 'Tomato' object has no attribute 'stage_of_maturity'"
     ]
    }
   ],
   "source": [
    "tomato = Tomato(5)\n",
    "tomato.stage_of_maturity"
   ]
  },
  {
   "cell_type": "code",
   "execution_count": null,
   "metadata": {},
   "outputs": [],
   "source": []
  }
 ],
 "metadata": {
  "kernelspec": {
   "display_name": "Python 3",
   "language": "python",
   "name": "python3"
  },
  "language_info": {
   "codemirror_mode": {
    "name": "ipython",
    "version": 3
   },
   "file_extension": ".py",
   "mimetype": "text/x-python",
   "name": "python",
   "nbconvert_exporter": "python",
   "pygments_lexer": "ipython3",
   "version": "3.8.3"
  }
 },
 "nbformat": 4,
 "nbformat_minor": 4
}
