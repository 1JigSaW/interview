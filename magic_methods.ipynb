{
 "cells": [
  {
   "cell_type": "code",
   "execution_count": 1,
   "metadata": {},
   "outputs": [],
   "source": [
    "from os.path import join\n",
    "\n",
    "class FileObject:\n",
    "    \n",
    "    def __init__(self, filepath='~', filename='sample.txt'):\n",
    "        self.file = open(join(filepath, filename), 'r+')\n",
    "    \n",
    "    def __del__(self):\n",
    "        self.file.close()\n",
    "        del self.file"
   ]
  },
  {
   "cell_type": "code",
   "execution_count": 2,
   "metadata": {},
   "outputs": [],
   "source": [
    "class Word(str):\n",
    "    \n",
    "    def __new__(cls, word):\n",
    "        if ' ' in word:\n",
    "            print('Value contains spaces. Truncating to first space. ')\n",
    "            word = word[:word.index(' ')]\n",
    "        return str.__new__(cls, word)\n",
    "    \n",
    "    def __gt__(self, other):\n",
    "        return len(self) > len(other)\n",
    "    \n",
    "    def __lt__(self, other):\n",
    "        return len(self) < len(other)\n",
    "    \n",
    "    def __ge__(self, other):\n",
    "        return len(self) >= len(other)\n",
    "    \n",
    "    def __le__(self, other):\n",
    "        return len(self) <= len(other)"
   ]
  },
  {
   "cell_type": "code",
   "execution_count": 3,
   "metadata": {},
   "outputs": [],
   "source": [
    "word1 = Word('foo')\n",
    "word2 = Word('bar')\n"
   ]
  },
  {
   "cell_type": "code",
   "execution_count": 4,
   "metadata": {},
   "outputs": [
    {
     "data": {
      "text/plain": [
       "False"
      ]
     },
     "execution_count": 4,
     "metadata": {},
     "output_type": "execute_result"
    }
   ],
   "source": [
    "word1 < word2"
   ]
  },
  {
   "cell_type": "code",
   "execution_count": 5,
   "metadata": {},
   "outputs": [
    {
     "data": {
      "text/plain": [
       "False"
      ]
     },
     "execution_count": 5,
     "metadata": {},
     "output_type": "execute_result"
    }
   ],
   "source": [
    "word1 > word2\n"
   ]
  },
  {
   "cell_type": "code",
   "execution_count": 6,
   "metadata": {},
   "outputs": [
    {
     "data": {
      "text/plain": [
       "True"
      ]
     },
     "execution_count": 6,
     "metadata": {},
     "output_type": "execute_result"
    }
   ],
   "source": [
    "word1 <= word2"
   ]
  },
  {
   "cell_type": "code",
   "execution_count": 8,
   "metadata": {},
   "outputs": [],
   "source": [
    "class AccessCounter:\n",
    "    \n",
    "    def __init__(self, val):\n",
    "        super(AccessCounter, self).__setattr__('counter', 0)\n",
    "        super(AccessCounter, self).__setattr__('value', val)\n",
    "    \n",
    "    def __setattr__(self, name, value):\n",
    "        if name == 'value':\n",
    "            super(AccessCounter, self).__setattr__('counter', self.counter + 1)\n",
    "        super(AccessCounter, self).__setattr__(name, value)\n",
    "    \n",
    "    def __delattr__(self, name):\n",
    "        if name == 'value':\n",
    "            super(AccessCounter, self).__setattr__('counter', self.counter + 1)\n",
    "        super(AccessCounter, self).__delattr__(name)"
   ]
  },
  {
   "cell_type": "code",
   "execution_count": 10,
   "metadata": {},
   "outputs": [],
   "source": [
    "class FunctionalList:\n",
    "    \n",
    "    def __init__(self, values=None):\n",
    "        if values is None:\n",
    "            self.values = []\n",
    "        else:\n",
    "            self.values = values\n",
    "    \n",
    "    def __len__(self):\n",
    "        return lwn(self.values)\n",
    "    \n",
    "    def __getitem__(self, key):\n",
    "        return self.values[key]\n",
    "    \n",
    "    def __setitem__(self, key, values):\n",
    "        self.values[key] = value\n",
    "        \n",
    "    def __delitem__(self, key):\n",
    "        del self.values[key]\n",
    "    \n",
    "    def __iter__(self):\n",
    "        return iter(self.values)\n",
    "    \n",
    "    def __reversed__(self):\n",
    "        return FunctionalList(reversed(self.values))\n",
    "    \n",
    "    def append(self, value):\n",
    "        self.values.append(values)\n",
    "        \n",
    "    def head(self):\n",
    "        return self.values[0]\n",
    "    \n",
    "    def tail(self):\n",
    "        return self.values[1:]\n",
    "    \n",
    "    def init(self):\n",
    "        return self.values[:-1]\n",
    "    \n",
    "    def last(self):\n",
    "        return self.values[-1]\n",
    "    \n",
    "    def drop(self, n):\n",
    "        return self.values[n:]\n",
    "    \n",
    "    def take(self, n):\n",
    "        return self.values[:n]"
   ]
  },
  {
   "cell_type": "code",
   "execution_count": 11,
   "metadata": {},
   "outputs": [],
   "source": [
    "class Entity:\n",
    "    '''Класс, описывающий объект на плоскости. \"Вызываемый\", чтобы обновить позицию объекта.'''\n",
    "\n",
    "    def __init__(self, size, x, y):\n",
    "        self.x, self.y = x, y\n",
    "        self.size = size\n",
    "\n",
    "    def __call__(self, x, y):\n",
    "        '''Изменить положение объекта.'''\n",
    "        self.x, self.y = x, y\n"
   ]
  },
  {
   "cell_type": "code",
   "execution_count": 12,
   "metadata": {},
   "outputs": [],
   "source": [
    "class Meter:\n",
    "    \n",
    "    def __init__(self, value=0.0):\n",
    "        self.value = float(value)\n",
    "    \n",
    "    def __get__(self, instance, owner):\n",
    "        return self.value\n",
    "    \n",
    "    def __set__(self, instance, value):\n",
    "        self.value = float(value)\n",
    "    \n",
    "class Foot:\n",
    "    \n",
    "    def __get__(self, instance, owner):\n",
    "        return instance.meter * 3.2808\n",
    "    \n",
    "    def __set__(self, instance, value):\n",
    "        instance.meter = float(value) / 3.2808\n",
    "        \n",
    "class Distance:\n",
    "    \n",
    "    meter = Meter()\n",
    "    foot = Foot()"
   ]
  },
  {
   "cell_type": "code",
   "execution_count": 13,
   "metadata": {},
   "outputs": [],
   "source": [
    "import pickle\n",
    "\n",
    "data = {'foo': [1, 2, 3],\n",
    "        'bar': ('Hello', 'world!'),\n",
    "        'baz': True}\n",
    "jar = open('data.pkl', 'wb')\n",
    "pickle.dump(data, jar) # записать сериализованные данные в jar\n",
    "jar.close()"
   ]
  },
  {
   "cell_type": "code",
   "execution_count": 15,
   "metadata": {},
   "outputs": [
    {
     "name": "stdout",
     "output_type": "stream",
     "text": [
      "{'foo': [1, 2, 3], 'bar': ('Hello', 'world!'), 'baz': True}\n"
     ]
    }
   ],
   "source": [
    "import pickle\n",
    "\n",
    "pkl_file = open('data.pkl', 'rb') # открываем\n",
    "data = pickle.load(pkl_file) # сохраняем в переменную\n",
    "print(data)\n",
    "pkl_file.close()"
   ]
  },
  {
   "cell_type": "code",
   "execution_count": null,
   "metadata": {},
   "outputs": [],
   "source": [
    "import time\n",
    "\n",
    "class Slate:\n",
    "    '''Класс, хранящий строку и лог изменений. И забывающий своё значение после \n",
    "    сериализации.'''\n",
    "\n",
    "    def __init__(self, value):\n",
    "        self.value = value\n",
    "        self.last_change = time.asctime()\n",
    "        self.history = {}\n",
    "\n",
    "    def change(self, new_value):\n",
    "        # Изменить значение. Зафиксировать последнее значение в истории. \n",
    "        self.history[self.last_change] = self.value\n",
    "        self.value = new_value\n",
    "        self.last_change = time.asctime()\n",
    "\n",
    "    def print_changes(self):\n",
    "        print 'Changelog for Slate object:'\n",
    "        for k, v in self.history.items():\n",
    "            print '%s\\t %s' % (k, v)\n",
    "\n",
    "    def __getstate__(self):\n",
    "        # Намеренно не возвращаем self.value or self.last_change.\n",
    "        # Мы хотим \"чистую доску\" после десериализации.\n",
    "        return self.history\n",
    "\n",
    "    def __setstate__(self, state):\n",
    "        self.history = state\n",
    "        self.value, self.last_change = None, None"
   ]
  }
 ],
 "metadata": {
  "kernelspec": {
   "display_name": "Python 3",
   "language": "python",
   "name": "python3"
  },
  "language_info": {
   "codemirror_mode": {
    "name": "ipython",
    "version": 3
   },
   "file_extension": ".py",
   "mimetype": "text/x-python",
   "name": "python",
   "nbconvert_exporter": "python",
   "pygments_lexer": "ipython3",
   "version": "3.8.3"
  }
 },
 "nbformat": 4,
 "nbformat_minor": 4
}
