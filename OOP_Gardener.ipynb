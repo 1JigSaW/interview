{
 "cells": [
  {
   "cell_type": "code",
   "execution_count": 83,
   "metadata": {},
   "outputs": [],
   "source": [
    "class TomatoBush:\n",
    "    \n",
    "    def __init__(self, count):\n",
    "        self.tomatoes = [Tomato(index) for index in range(0, count)]\n",
    "    \n",
    "    def grow_all(self):\n",
    "        for tomato in self.tomatoes:\n",
    "            tomato.grow()\n",
    "    \n",
    "    def all_are_ripe(self):\n",
    "        return all([tomato.is_ripe() for tomato in self.tomatoes])\n",
    "    \n",
    "    def give_away_all(self):\n",
    "        self.tomatoes = []\n",
    "                \n",
    "        \n",
    "class Tomato:\n",
    "    \n",
    "    states = {0: 'nothing', 1: 'flower', 2: 'green_tomato', 3: 'red_tomato'}\n",
    "    \n",
    "    def __init__(self, index):\n",
    "        self._index = index\n",
    "        self._stage_of_maturity = 0\n",
    "        \n",
    "    def grow(self):\n",
    "        self._stage_of_maturity += 1\n",
    "    \n",
    "    def is_ripe(self):\n",
    "        if self._stage_of_maturity == 3:\n",
    "            print('Томат достиг последнего уровня зрелости!')\n",
    "            return True\n",
    "        else:\n",
    "            print('Томат еще не созрел')\n",
    "            return False\n",
    "\n",
    "class Gardener:\n",
    "    \n",
    "    def __init__(self, name, plant):\n",
    "        self.name = name\n",
    "        self._plant = plant\n",
    "    \n",
    "    def work(self):\n",
    "        self._plant.grow_all()\n",
    "    \n",
    "    def harvest(self):\n",
    "        if self._plant.all_are_ripe():\n",
    "            self._plant.give_away_all()\n",
    "        else:\n",
    "            print('Не все растения созрели')\n",
    "    \n",
    "    @staticmethod\n",
    "    def knowledge_base():\n",
    "        print('Справка')\n",
    "            "
   ]
  },
  {
   "cell_type": "code",
   "execution_count": 84,
   "metadata": {},
   "outputs": [
    {
     "data": {
      "text/plain": [
       "[<__main__.Tomato at 0x2307bf627f0>,\n",
       " <__main__.Tomato at 0x2307bf62550>,\n",
       " <__main__.Tomato at 0x2307bf62730>,\n",
       " <__main__.Tomato at 0x2307bf62820>,\n",
       " <__main__.Tomato at 0x2307bf77820>,\n",
       " <__main__.Tomato at 0x2307bf77850>]"
      ]
     },
     "execution_count": 84,
     "metadata": {},
     "output_type": "execute_result"
    }
   ],
   "source": [
    "bush = TomatoBush(6)\n",
    "bush.tomatoes"
   ]
  },
  {
   "cell_type": "code",
   "execution_count": 85,
   "metadata": {},
   "outputs": [],
   "source": [
    "tomato = Tomato(4)\n",
    "tomato.grow()"
   ]
  },
  {
   "cell_type": "code",
   "execution_count": 86,
   "metadata": {},
   "outputs": [
    {
     "name": "stdout",
     "output_type": "stream",
     "text": [
      "Справка\n"
     ]
    }
   ],
   "source": [
    "gardener = Gardener('Misha', bush)\n",
    "gardener.knowledge_base()"
   ]
  },
  {
   "cell_type": "code",
   "execution_count": 87,
   "metadata": {},
   "outputs": [],
   "source": [
    "gardener.work()"
   ]
  },
  {
   "cell_type": "code",
   "execution_count": 88,
   "metadata": {},
   "outputs": [
    {
     "name": "stdout",
     "output_type": "stream",
     "text": [
      "Томат еще не созрел\n",
      "Томат еще не созрел\n",
      "Томат еще не созрел\n",
      "Томат еще не созрел\n",
      "Томат еще не созрел\n",
      "Томат еще не созрел\n",
      "Не все растения созрели\n"
     ]
    }
   ],
   "source": [
    "gardener.harvest()"
   ]
  },
  {
   "cell_type": "code",
   "execution_count": 89,
   "metadata": {},
   "outputs": [
    {
     "name": "stdout",
     "output_type": "stream",
     "text": [
      "Томат еще не созрел\n",
      "Томат еще не созрел\n",
      "Томат еще не созрел\n",
      "Томат еще не созрел\n",
      "Томат еще не созрел\n",
      "Томат еще не созрел\n",
      "Не все растения созрели\n"
     ]
    }
   ],
   "source": [
    "gardener.work()\n",
    "gardener.harvest()"
   ]
  },
  {
   "cell_type": "code",
   "execution_count": 90,
   "metadata": {},
   "outputs": [
    {
     "name": "stdout",
     "output_type": "stream",
     "text": [
      "Томат достиг последнего уровня зрелости!\n",
      "Томат достиг последнего уровня зрелости!\n",
      "Томат достиг последнего уровня зрелости!\n",
      "Томат достиг последнего уровня зрелости!\n",
      "Томат достиг последнего уровня зрелости!\n",
      "Томат достиг последнего уровня зрелости!\n"
     ]
    }
   ],
   "source": [
    "gardener.work()\n",
    "gardener.harvest()"
   ]
  },
  {
   "cell_type": "code",
   "execution_count": null,
   "metadata": {},
   "outputs": [],
   "source": []
  }
 ],
 "metadata": {
  "kernelspec": {
   "display_name": "Python 3",
   "language": "python",
   "name": "python3"
  },
  "language_info": {
   "codemirror_mode": {
    "name": "ipython",
    "version": 3
   },
   "file_extension": ".py",
   "mimetype": "text/x-python",
   "name": "python",
   "nbconvert_exporter": "python",
   "pygments_lexer": "ipython3",
   "version": "3.8.3"
  }
 },
 "nbformat": 4,
 "nbformat_minor": 4
}
